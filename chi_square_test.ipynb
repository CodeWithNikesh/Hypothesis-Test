{
  "nbformat": 4,
  "nbformat_minor": 0,
  "metadata": {
    "colab": {
      "private_outputs": true,
      "provenance": []
    },
    "kernelspec": {
      "name": "python3",
      "display_name": "Python 3"
    },
    "language_info": {
      "name": "python"
    }
  },
  "cells": [
    {
      "cell_type": "markdown",
      "source": [
        "## 1️⃣ Election Votes Distribution\n",
        "A city records election votes for three candidates: A, B, and C.\n",
        "The expected votes were equal, but the observed data shows differences. Does the vote distribution match expectations?"
      ],
      "metadata": {
        "id": "SQrHetYazzCk"
      }
    },
    {
      "cell_type": "code",
      "source": [
        "import numpy as np\n",
        "import scipy.stats as stats\n",
        "\n",
        "observed = np.array([500, 600, 550])\n",
        "expected = np.array([550, 550, 550])\n",
        "\n",
        "\n",
        "#  H₀: The observed vote distribution follows the expected uniform distribution.\n",
        "#  H₁: The observed vote distribution does not match the expected distribution.\n",
        "\n",
        "chi2,p_value = stats.chisquare(observed,expected)\n",
        "\n",
        "print(f'p_value {p_value}\\n')\n",
        "\n",
        "alpha = 0.05\n",
        "\n",
        "if p_value < alpha:\n",
        "  print('Reject the null hypothesis: The observed vote distribution do not follows the expected uniform distribution')\n",
        "else:\n",
        "  print('Faild to Reject the null hypothesis: The observed vote distribution follows the expected uniform distribution')"
      ],
      "metadata": {
        "id": "sb79ZtUKzyyX"
      },
      "execution_count": null,
      "outputs": []
    },
    {
      "cell_type": "markdown",
      "source": [
        "## 2️⃣ Factory Defective Product Rates\n",
        "A factory expects 5% defective products, but observed values differ.\n",
        "Does the defect rate follow the expected distribution?\n",
        "\n"
      ],
      "metadata": {
        "id": "_yXiXORz2lsJ"
      }
    },
    {
      "cell_type": "code",
      "source": [
        "observed = np.array([50, 950])  # Defective, Non-defective\n",
        "expected = np.array([1000 * 0.05, 1000 * 0.95])  # 5% defective\n",
        "\n",
        "\n",
        "# H₀: The defect rate follows the expected 5% rate.\n",
        "# H₁: The defect rate does not match expectations.\n",
        "\n",
        "chi2_stats , p_value = stats.chisquare(observed,expected)\n",
        "\n",
        "print(f'chi2_stats = {chi2_stats} \\np_value = {p_value} \\n{50*\"=\"}')\n",
        "\n",
        "alpha = 0.05\n",
        "\n",
        "if p_value < alpha:\n",
        "  print('Reject The Null Hypothesis :The defect rate do not follows the expected 5% rate')\n",
        "else:\n",
        "  print('Fail to reject the Null Hypothesis: defect rate follows the expected 5% rate')\n",
        "\n"
      ],
      "metadata": {
        "id": "uPRfKbMozyvW"
      },
      "execution_count": null,
      "outputs": []
    },
    {
      "cell_type": "markdown",
      "source": [
        "## 3️⃣ Car Color Preference\n",
        "A survey recorded customer preferences for car colors (Red, Blue, Black, White). Are they equally preferred?\n",
        "\n"
      ],
      "metadata": {
        "id": "LRTnVWDy5KSf"
      }
    },
    {
      "cell_type": "code",
      "source": [
        "observed = np.array([250, 300, 280, 270])\n",
        "expected = np.array([275, 275, 275, 275])  # Equal expected values\n",
        "print((250+300+280+270)/4)\n",
        "\n",
        "# H₀: Customers equally prefer all colors.\n",
        "# H₁: Preferences vary.\n",
        "\n",
        "chi2_stats , p_value = stats.chisquare(observed,expected)\n",
        "\n",
        "print(f'chi2_stats = {chi2_stats} \\np_value = {p_value} \\n{50*\"=\"}')\n",
        "\n",
        "alpha = 0.05\n",
        "\n",
        "if p_value < alpha:\n",
        "  print('Reject The Null Hypothesis : Customers are not equally prefer all colors.')\n",
        "else:\n",
        "  print('Fail to reject the Null Hypothesis: Customers equally prefer all colors')\n",
        "\n"
      ],
      "metadata": {
        "id": "tHjiOugZzyr_"
      },
      "execution_count": null,
      "outputs": []
    },
    {
      "cell_type": "markdown",
      "source": [
        "## 4️⃣ Lottery Number Frequency\n",
        "A lottery company expects each number (1–5) to appear equally.\n",
        "\n",
        "Observed counts suggest a deviation. Is the draw fair?\n",
        "\n"
      ],
      "metadata": {
        "id": "Z-Zv358Af-8K"
      }
    },
    {
      "cell_type": "code",
      "source": [
        "observed = np.array([220, 180, 210, 190, 200])\n",
        "expected = np.array([200, 200, 200, 200, 200])\n",
        "\n",
        "# H₀: The numbers occur with equal probability.\n",
        "# H₁: Some numbers are favored.\n",
        "\n",
        "chi2_stats , p_value = stats.chisquare(observed,expected)\n",
        "\n",
        "print(f'chi2_stats = {chi2_stats} \\np_value = {p_value} \\n{50*\"=\"}')\n",
        "\n",
        "alpha = 0.05\n",
        "\n",
        "if p_value < alpha:\n",
        "  print('Reject The Null Hypothesis : The numbers are not occur with equal probability.')\n",
        "else:\n",
        "  print('Fail to reject the Null Hypothesis: The numbers occur with equal probability')"
      ],
      "metadata": {
        "id": "K9sKsGWvzypD"
      },
      "execution_count": null,
      "outputs": []
    },
    {
      "cell_type": "markdown",
      "source": [
        "## 5️⃣ Online Shopping Preferences\n",
        "A retailer predicts 30% customers prefer electronics, 25% prefer clothing, 20% prefer books, and 25% prefer groceries. Is this correct?\n",
        "\n"
      ],
      "metadata": {
        "id": "B0ddBWz2guqk"
      }
    },
    {
      "cell_type": "code",
      "source": [
        "observed = np.array([300, 250, 200, 250])\n",
        "expected = np.array([1000 * 0.30, 1000 * 0.25, 1000 * 0.20, 1000 * 0.25])\n",
        "\n",
        "\n",
        "# H₀: Customer preferences match the given percentages.\n",
        "# H₁: The preferences differ.\n",
        "\n",
        "chi2_stats , p_value = stats.chisquare(observed,expected)\n",
        "\n",
        "print(f'chi2_stats = {chi2_stats} \\np_value = {p_value} \\n{50*\"=\"}')\n",
        "\n",
        "alpha = 0.05\n",
        "\n",
        "if p_value < alpha:\n",
        "  print('Reject The Null Hypothesis : Customer The preferences differ.')\n",
        "else:\n",
        "  print('Fail to reject the Null Hypothesis: Customer preferences match the given percentages')"
      ],
      "metadata": {
        "id": "RoRajhCLzyly"
      },
      "execution_count": null,
      "outputs": []
    },
    {
      "cell_type": "markdown",
      "source": [
        "## 6️⃣ Coin Toss Fairness\n",
        "A coin is flipped 1000 times, and we get 520 heads and 480 tails. Is the coin fair?"
      ],
      "metadata": {
        "id": "-3rl9MPUhZIY"
      }
    },
    {
      "cell_type": "code",
      "source": [
        "observed = np.array([520, 480])\n",
        "expected = np.array([500, 500])\n",
        "\n",
        "# H₀: The coin is fair (50% heads, 50% tails).\n",
        "# H₁: The coin is biased.\n",
        "\n",
        "chi2_stats , p_value = stats.chisquare(observed,expected)\n",
        "\n",
        "print(f'chi2_stats = {chi2_stats} \\np_value = {p_value} \\n{50*\"=\"}')\n",
        "\n",
        "alpha = 0.05\n",
        "\n",
        "if p_value < alpha:\n",
        "  print('Reject The Null Hypothesis : The coin is biased ')\n",
        "else:\n",
        "  print('Fail to reject the Null Hypothesis: The coin is fair (50% heads, 50% tails)')"
      ],
      "metadata": {
        "id": "k9aXEjiAzyii"
      },
      "execution_count": null,
      "outputs": []
    },
    {
      "cell_type": "markdown",
      "source": [
        "## 7️⃣ Dice Fairness\n",
        "A six-sided die is rolled 600 times. Expected frequency is 100 per face, but the observed data differs. Is the die fair?"
      ],
      "metadata": {
        "id": "6TtjduaqiPSv"
      }
    },
    {
      "cell_type": "code",
      "source": [
        "observed = np.array([90, 110, 95, 105, 100, 100])\n",
        "expected = np.array([100, 100, 100, 100, 100, 100])\n",
        "\n",
        "# H₀: The die is fair (each side appears equally)\n",
        "# H₁: The die is biased.\n",
        "\n",
        "chi2_stats , p_value = stats.chisquare(observed,expected)\n",
        "\n",
        "print(f'chi2_stats = {chi2_stats} \\np_value = {p_value} \\n{50*\"=\"}')\n",
        "\n",
        "alpha = 0.05\n",
        "\n",
        "if p_value < alpha:\n",
        "  print('Reject The Null Hypothesis :The die is not fair')\n",
        "else:\n",
        "  print('Fail to reject the Null Hypothesis: The die is fair')"
      ],
      "metadata": {
        "id": "WW0K_pOCiO-K"
      },
      "execution_count": null,
      "outputs": []
    },
    {
      "cell_type": "markdown",
      "source": [
        "## 8️⃣ Customer Purchase Preferences\n",
        "A supermarket expects 30% of purchases in dairy, 20% in bakery, 25% in vegetables, and 25% in snacks. Do actual sales match?\n",
        "\n"
      ],
      "metadata": {
        "id": "b8rMq-iAjAem"
      }
    },
    {
      "cell_type": "code",
      "source": [
        "observed = np.array([300, 200, 250, 250])\n",
        "expected = np.array([1000 * 0.30, 1000 * 0.20, 1000 * 0.25, 1000 * 0.25])\n",
        "\n",
        "\n",
        "# H₀: The purchase distribution follows expectations\n",
        "# H₁: The purchase distribution differs.\n",
        "\n",
        "chi2_stats , p_value = stats.chisquare(observed,expected)\n",
        "\n",
        "print(f'chi2_stats = {chi2_stats} \\np_value = {p_value} \\n{50*\"=\"}')\n",
        "\n",
        "alpha = 0.05\n",
        "\n",
        "\n",
        "if p_value < alpha:\n",
        "  print('Reject The Null Hypothesis : The purchase distribution do not follows expectations')\n",
        "else:\n",
        "  print('Fail to reject the Null Hypothesis: The purchase distribution follows expectations')"
      ],
      "metadata": {
        "id": "IprhwVKKiO6j"
      },
      "execution_count": null,
      "outputs": []
    },
    {
      "cell_type": "markdown",
      "source": [
        "## 9️⃣ Student Grades Distribution\n",
        "A teacher believes that A (20%), B (30%), C (30%), and D (20%) should be distributed among students. Observed data suggests otherwise. Are grades assigned fairly?\n"
      ],
      "metadata": {
        "id": "PGhnaL-Yj2A9"
      }
    },
    {
      "cell_type": "code",
      "source": [
        "observed = np.array([40, 60, 70, 30])\n",
        "expected = np.array([200 * 0.20, 200 * 0.30, 200 * 0.30, 200 * 0.20])\n",
        "\n",
        "\n",
        "# H₀: Grade distribution follows expectations\n",
        "# H₁: Grade distribution differs\n",
        "\n",
        "chi2_stats , p_value = stats.chisquare(observed,expected)\n",
        "\n",
        "print(f'chi2_stats = {chi2_stats} \\np_value = {p_value} \\n{50*\"=\"}')\n",
        "\n",
        "alpha = 0.05\n",
        "\n",
        "\n",
        "if p_value < alpha:\n",
        "  print('Reject The Null Hypothesis : Grade distribution do not follows expectations')\n",
        "else:\n",
        "  print('Fail to reject the Null Hypothesis: Grade distribution follows expectations')"
      ],
      "metadata": {
        "id": "tvzZksNsiO3p"
      },
      "execution_count": null,
      "outputs": []
    },
    {
      "cell_type": "markdown",
      "source": [
        "## 🔟 Traffic Light Timings\n",
        "A city claims that traffic lights turn red (40%), yellow (10%), and green (50%) in a controlled way. Observed data suggests a deviation. Is the traffic control system fair?\n"
      ],
      "metadata": {
        "id": "CBwK8IRNkzEw"
      }
    },
    {
      "cell_type": "code",
      "source": [
        "observed = np.array([400, 150, 450])\n",
        "expected = np.array([1000 * 0.40, 1000 * 0.10, 1000 * 0.50])\n",
        "\n",
        "\n",
        "# H₀: The traffic light timings match expectations.\n",
        "# H₁: The timings differ\n",
        "\n",
        "chi2_stats , p_value = stats.chisquare(observed,expected)\n",
        "\n",
        "print(f'chi2_stats = {chi2_stats} \\np_value = {p_value} \\n{50*\"=\"}')\n",
        "\n",
        "alpha = 0.05\n",
        "\n",
        "\n",
        "if p_value < alpha:\n",
        "  print('Reject The Null Hypothesis : The traffic light timings do not match expectations')\n",
        "else:\n",
        "  print('Fail to reject the Null Hypothesis: The traffic light timings match expectations')"
      ],
      "metadata": {
        "id": "quLkH9AfiO0x"
      },
      "execution_count": null,
      "outputs": []
    },
    {
      "cell_type": "markdown",
      "source": [
        "## 1️⃣1️⃣ Social Media Usage\n",
        "A company claims that 40% use Facebook, 30% use Instagram, and 30% use Twitter. A survey gives different results. Is the claim correct?\n"
      ],
      "metadata": {
        "id": "9a4usECmlZRz"
      }
    },
    {
      "cell_type": "code",
      "source": [
        "observed = np.array([420, 280, 300])\n",
        "expected = np.array([1000 * 0.40, 1000 * 0.30, 1000 * 0.30])\n",
        "\n",
        "\n",
        "# H₀: The usage follows the claimed distribution.\n",
        "# H₁: The usage differs\n",
        "\n",
        "\n",
        "chi2_stats , p_value = stats.chisquare(observed,expected)\n",
        "\n",
        "print(f'chi2_stats = {chi2_stats} \\np_value = {p_value} \\n{50*\"=\"}')\n",
        "\n",
        "alpha = 0.05\n",
        "\n",
        "\n",
        "if p_value < alpha:\n",
        "  print('Reject The Null Hypothesis : The usage do not follows the claimed distribution')\n",
        "else:\n",
        "  print('Fail to reject the Null Hypothesis: The usage follows the claimed distribution')"
      ],
      "metadata": {
        "id": "xW2uQvxWlY_B"
      },
      "execution_count": null,
      "outputs": []
    },
    {
      "cell_type": "markdown",
      "source": [
        "## 1️⃣2️⃣ Website Traffic Sources\n",
        "A website predicts its traffic comes 50% from search engines, 30% from social media, and 20% from direct visits. Actual data suggests otherwise. Is the prediction accurate?\n"
      ],
      "metadata": {
        "id": "0edq8IHumASa"
      }
    },
    {
      "cell_type": "code",
      "source": [
        "observed = np.array([500, 250, 250])\n",
        "expected = np.array([1000 * 0.50, 1000 * 0.30, 1000 * 0.20])\n",
        "\n",
        "\n",
        "# H₀: The traffic sources follow predictions.\n",
        "# H₁: The traffic sources are different.\n",
        "\n",
        "chi2_stats , p_value = stats.chisquare(observed,expected)\n",
        "\n",
        "print(f'chi2_stats = {chi2_stats} \\np_value = {p_value} \\n{50*\"=\"}')\n",
        "\n",
        "alpha = 0.05\n",
        "\n",
        "\n",
        "if p_value < alpha:\n",
        "  print('Reject The Null Hypothesis : The traffic sources do not follow predictions')\n",
        "else:\n",
        "  print('Fail to reject the Null Hypothesis: The traffic sources follow predictions')"
      ],
      "metadata": {
        "id": "CO1E9kKRlY7l"
      },
      "execution_count": null,
      "outputs": []
    },
    {
      "cell_type": "markdown",
      "source": [
        "## 1️⃣3️⃣ Sports Preference Survey\n",
        "A survey asked people to choose Cricket, Football, or Basketball. The expected preference is 40%, 35%, and 25%. Is this correct?\n"
      ],
      "metadata": {
        "id": "5JXJ-QTBmjVp"
      }
    },
    {
      "cell_type": "code",
      "source": [
        "observed = np.array([400, 370, 230])\n",
        "expected = np.array([1000 * 0.40, 1000 * 0.35, 1000 * 0.25])\n",
        "\n",
        "\n",
        "# H₀: The distribution follows expectations.\n",
        "# H₁: The preference distribution is different.\n",
        "\n",
        "chi2_stats , p_value = stats.chisquare(observed,expected)\n",
        "\n",
        "print(f'chi2_stats = {chi2_stats} \\np_value = {p_value} \\n{50*\"=\"}')\n",
        "\n",
        "alpha = 0.05\n",
        "\n",
        "\n",
        "if p_value < alpha:\n",
        "  print('Reject The Null Hypothesis :  The distribution do not follows expectations')\n",
        "else:\n",
        "  print('Fail to reject the Null Hypothesis:  The distribution follows expectations')"
      ],
      "metadata": {
        "id": "ABe5vQqaiOxq"
      },
      "execution_count": null,
      "outputs": []
    },
    {
      "cell_type": "markdown",
      "source": [
        "## 2️⃣1️⃣ Does Gender Affect Shopping Preference?\n",
        "A survey records the shopping preferences (Online/In-store) of men and women. Are they independent?\n",
        "\n"
      ],
      "metadata": {
        "id": "PMVeKDaenF2Q"
      }
    },
    {
      "cell_type": "code",
      "source": [
        "import pandas as pd\n",
        "from scipy.stats import chi2_contingency\n",
        "\n",
        "data = np.array([[300, 200], [250, 250]])\n",
        "df = pd.DataFrame(data, columns=[\"Online\", \"In-store\"], index=[\"Male\", \"Female\"])\n",
        "\n",
        "\n",
        "# H₀: Gender and shopping preference are independent.\n",
        "# H₁: Gender and shopping preference are related.\n",
        "\n",
        "chi2_stats, p_value, dof,expected = chi2_contingency(df)\n",
        "\n",
        "print(f\"Chi-Square: {chi2_stats:.2f},\\np-value: {p_value:.4f}\\n{80*'='}\")\n",
        "\n",
        "alpha = 0.05\n",
        "\n",
        "\n",
        "if p_value < alpha:\n",
        "  print('Reject The Null Hypothesis : Gender and shopping preference are not independent')\n",
        "else:\n",
        "  print('Fail to reject the Null Hypothesis:  Gender and shopping preference are independent')\n",
        "\n"
      ],
      "metadata": {
        "id": "pw2vXOHhiOuu"
      },
      "execution_count": null,
      "outputs": []
    },
    {
      "cell_type": "markdown",
      "source": [
        "## 2️⃣2️⃣ Does Smoking Affect Lung Disease?\n",
        "A study checks if smoking is related to lung disease.\n",
        "\n"
      ],
      "metadata": {
        "id": "BV7giqrNn935"
      }
    },
    {
      "cell_type": "code",
      "source": [
        "data = np.array([[200, 150], [180, 470]])\n",
        "df = pd.DataFrame(data, columns=[\"Lung Disease\", \"No Disease\"], index=[\"Smoker\", \"Non-Smoker\"])\n",
        "\n",
        "\n",
        "# H₀: Smoking and lung disease are independent.\n",
        "# H₁: Smoking is related to lung disease.\n",
        "\n",
        "chi2_stats, p_value, dof,expected = chi2_contingency(df)\n",
        "\n",
        "print(f\"Chi-Square: {chi2_stats:.2f},\\np-value: {p_value:.4f}\\n{80*'='}\")\n",
        "\n",
        "alpha = 0.05\n",
        "\n",
        "\n",
        "if p_value < alpha:\n",
        "  print('Reject The Null Hypothesis : Smoking and lung disease are not independent')\n",
        "else:\n",
        "  print('Fail to reject the Null Hypothesis: Smoking and lung disease are independent')\n"
      ],
      "metadata": {
        "id": "UvnhcokZn9iR"
      },
      "execution_count": null,
      "outputs": []
    },
    {
      "cell_type": "markdown",
      "source": [
        "## 2️⃣3️⃣ Does Education Level Affect Voting Preference?\n",
        "A survey checks if education level influences voting choice.\n",
        "\n"
      ],
      "metadata": {
        "id": "wQR8T5l4qHUg"
      }
    },
    {
      "cell_type": "code",
      "source": [
        "data = np.array([[250, 300], [200, 250], [150, 100]])\n",
        "df = pd.DataFrame(data, columns=[\"Candidate A\", \"Candidate B\"], index=[\"High School\", \"College\", \"Postgraduate\"])\n",
        "\n",
        "\n",
        "# H₀: Education level and voting preference are independent.\n",
        "# H₁: Education level affects voting preference.\n",
        "\n",
        "chi2_stats, p_value, dof,expected = chi2_contingency(df)\n",
        "\n",
        "print(f\"Chi-Square: {chi2_stats:.2f},\\np-value: {p_value:.4f}\\n{80*'='}\")\n",
        "\n",
        "alpha = 0.05\n",
        "\n",
        "\n",
        "if p_value < alpha:\n",
        "  print('Reject The Null Hypothesis : Education level and voting preference are not independent')\n",
        "else:\n",
        "  print('Fail to reject the Null Hypothesis: Education level and voting preference are independent')\n",
        "\n",
        ""
      ],
      "metadata": {
        "id": "MZ3dp-H_n9Xi"
      },
      "execution_count": null,
      "outputs": []
    },
    {
      "cell_type": "markdown",
      "source": [
        "## 2️⃣4️⃣ Does Diet Affect Heart Disease?\n",
        "A study examines whether a vegetarian or non-vegetarian diet is linked to heart disease.\n",
        "\n"
      ],
      "metadata": {
        "id": "P1tdSZ5_q9bh"
      }
    },
    {
      "cell_type": "code",
      "source": [
        "data = np.array([[180, 220], [250, 350]])\n",
        "df = pd.DataFrame(data, columns=[\"Heart Disease\", \"No Heart Disease\"], index=[\"Vegetarian\", \"Non-Vegetarian\"])\n",
        "\n",
        "\n",
        "# H₀: Diet and heart disease are independent.\n",
        "# H₁: Diet and heart disease are related.\n",
        "\n",
        "chi2_stats, p_value, dof,expected = chi2_contingency(df)\n",
        "\n",
        "print(f\"Chi-Square: {chi2_stats:.2f},\\np-value: {p_value:.4f}\\n{80*'='}\")\n",
        "\n",
        "alpha = 0.05\n",
        "\n",
        "\n",
        "if p_value < alpha:\n",
        "  print('Reject The Null Hypothesis : Education level and voting preference are not independent')\n",
        "else:\n",
        "  print('Fail to reject the Null Hypothesis: Education level and voting preference are independent')\n",
        "\n",
        ""
      ],
      "metadata": {
        "id": "QJLQh4MXn9T9"
      },
      "execution_count": null,
      "outputs": []
    },
    {
      "cell_type": "markdown",
      "source": [
        "## 2️⃣5️⃣ Does Work Experience Affect Promotion?\n",
        "A company wants to check if promotion depends on years of experience.\n",
        "\n"
      ],
      "metadata": {
        "id": "gmrSyIgZrRFl"
      }
    },
    {
      "cell_type": "code",
      "source": [
        "data = np.array([[40, 60], [70, 30], [90, 10]])\n",
        "df = pd.DataFrame(data, columns=[\"Promoted\", \"Not Promoted\"], index=[\"<5 years\", \"5-10 years\", \">10 years\"])\n",
        "\n",
        "\n",
        "# H₀: Work experience and promotion are independent.\n",
        "# H₁: Work experience affects promotion.\n",
        "\n",
        "chi2_stats, p_value, dof,expected = chi2_contingency(df)\n",
        "\n",
        "print(f\"Chi-Square: {chi2_stats:.2f},\\np-value: {p_value:.4f}\\n{80*'='}\")\n",
        "\n",
        "alpha = 0.05\n",
        "\n",
        "\n",
        "if p_value < alpha:\n",
        "  print('Reject The Null Hypothesis : Work experience and promotion are not independent')\n",
        "else:\n",
        "  print('Fail to reject the Null Hypothesis : Work experience and promotion are independent')\n",
        "\n",
        ""
      ],
      "metadata": {
        "id": "peq9KGKHn9Q3"
      },
      "execution_count": null,
      "outputs": []
    },
    {
      "cell_type": "markdown",
      "source": [
        "## 2️⃣6️⃣ Does Smartphone Brand Preference Vary by Age Group?\n",
        "A survey asks different age groups about their preferred smartphone brand.\n"
      ],
      "metadata": {
        "id": "qcIa_jr7r2JZ"
      }
    },
    {
      "cell_type": "code",
      "source": [
        "data = np.array([[100, 150, 200], [130, 170, 100], [90, 120, 140]])\n",
        "df = pd.DataFrame(data, columns=[\"Apple\", \"Samsung\", \"OnePlus\"], index=[\"18-25\", \"26-40\", \"41+\"])\n",
        "\n",
        "\n",
        "# H₀: Age group and brand preference are independent.\n",
        "# H₁: Age group affects brand preference.\n",
        "\n",
        "chi2_stats, p_value, dof,expected = chi2_contingency(df)\n",
        "\n",
        "print(f\"Chi-Square: {chi2_stats:.2f},\\np-value: {p_value:.4f}\\n{80*'='}\")\n",
        "\n",
        "alpha = 0.05\n",
        "\n",
        "\n",
        "if p_value < alpha:\n",
        "  print('Reject The Null Hypothesis : Work experience and promotion are not independent')\n",
        "else:\n",
        "  print('Fail to reject the Null Hypothesis : Work experience and promotion are independent')\n",
        ""
      ],
      "metadata": {
        "id": "r4iQUnLEn9N1"
      },
      "execution_count": null,
      "outputs": []
    },
    {
      "cell_type": "markdown",
      "source": [
        "## 2️⃣7️⃣ Does City Influence Internet Usage?\n",
        "A survey checks if people from different cities use the internet differently.\n"
      ],
      "metadata": {
        "id": "7vtsOwEosL-F"
      }
    },
    {
      "cell_type": "code",
      "source": [
        "data = np.array([[300, 200], [250, 250], [200, 300]])\n",
        "df = pd.DataFrame(data, columns=[\"Heavy User\", \"Light User\"], index=[\"City A\", \"City B\", \"City C\"])\n",
        "\n",
        "\n",
        "# H₀: City and internet usage are independent.\n",
        "# H₁: City affects internet usage.\n",
        "\n",
        "chi2_stats, p_value, dof,expected = chi2_contingency(df)\n",
        "\n",
        "print(f\"Chi-Square: {chi2_stats:.2f},\\np-value: {p_value:.4f}\\n{80*'='}\")\n",
        "\n",
        "alpha = 0.05\n",
        "\n",
        "\n",
        "if p_value < alpha:\n",
        "  print('Reject The Null Hypothesis : City and internet usage are not independent')\n",
        "else:\n",
        "  print('Fail to reject the Null Hypothesis : City and internet usage are independent')\n",
        "\n"
      ],
      "metadata": {
        "id": "aLsaxc2JsLpM"
      },
      "execution_count": null,
      "outputs": []
    },
    {
      "cell_type": "markdown",
      "source": [
        "## 2️⃣8️⃣ Does Gender Influence Car Type Preference?\n",
        "A survey records car type preferences among men and women.\n"
      ],
      "metadata": {
        "id": "fW9O8wcWsuEX"
      }
    },
    {
      "cell_type": "code",
      "source": [
        "data = np.array([[150, 200, 250], [180, 220, 200]])\n",
        "df = pd.DataFrame(data, columns=[\"Sedan\", \"SUV\", \"Truck\"], index=[\"Male\", \"Female\"])\n",
        "\n",
        "\n",
        "# H₀: Gender and car type preference are independent.\n",
        "# H₁: Gender and car type preference are related.\n",
        "\n",
        "chi2_stats, p_value, dof,expected = chi2_contingency(df)\n",
        "\n",
        "print(f\"Chi-Square: {chi2_stats:.2f},\\np-value: {p_value:.4f}\\n{80*'='}\")\n",
        "\n",
        "alpha = 0.05\n",
        "\n",
        "\n",
        "if p_value < alpha:\n",
        "  print('Reject The Null Hypothesis : Gender and car type preference are not independent')\n",
        "else:\n",
        "  print('Fail to reject the Null Hypothesis : Gender and car type preference are independent')\n",
        "\n"
      ],
      "metadata": {
        "id": "rtlEh25QsyaI"
      },
      "execution_count": null,
      "outputs": []
    },
    {
      "cell_type": "markdown",
      "source": [
        "## 2️⃣9️⃣ Does Education Level Affect Job Sector Choice?\n",
        "A study explores if people with different education levels prefer government or private jobs.\n",
        "\n"
      ],
      "metadata": {
        "id": "2Wp1JLBStUua"
      }
    },
    {
      "cell_type": "code",
      "source": [
        "data = np.array([[100, 200], [150, 250], [200, 150]])\n",
        "df = pd.DataFrame(data, columns=[\"Government\", \"Private\"], index=[\"High School\", \"Bachelor's\", \"Master's\"])\n",
        "\n",
        "\n",
        "# H₀: Education level and job sector choice are independent.\n",
        "# H₁: Education level influences job sector choice.\n",
        "\n",
        "chi2_stats, p_value, dof,expected = chi2_contingency(df)\n",
        "\n",
        "print(f\"Chi-Square: {chi2_stats:.2f},\\np-value: {p_value:.4f}\\n{80*'='}\")\n",
        "\n",
        "alpha = 0.05\n",
        "\n",
        "\n",
        "if p_value < alpha:\n",
        "  print('Reject The Null Hypothesis : Education level and job sector choice are not independent')\n",
        "else:\n",
        "  print('Fail to reject the Null Hypothesis : Education level and job sector choice are independent')\n"
      ],
      "metadata": {
        "id": "iFS0CfUHsLl1"
      },
      "execution_count": null,
      "outputs": []
    },
    {
      "cell_type": "markdown",
      "source": [
        "## 3️⃣0️⃣ Is Political Affiliation Linked to News Source?\n",
        "A survey asks participants about their political party and preferred news source.\n",
        "\n"
      ],
      "metadata": {
        "id": "LNYjBdXQuF59"
      }
    },
    {
      "cell_type": "code",
      "source": [
        "data = np.array([[130, 170, 200], [150, 180, 170]])\n",
        "df = pd.DataFrame(data, columns=[\"TV\", \"Online\", \"Newspaper\"], index=[\"Party A\", \"Party B\"])\n",
        "\n",
        "\n",
        "# H₀: Political affiliation and news source are independent.\n",
        "# H₁: Political affiliation influences news source choice.\n",
        "\n",
        "chi2_stats, p_value, dof,expected = chi2_contingency(df)\n",
        "\n",
        "print(f\"Chi-Square: {chi2_stats:.2f},\\np-value: {p_value:.4f}\\n{80*'='}\")\n",
        "\n",
        "alpha = 0.05\n",
        "\n",
        "\n",
        "if p_value < alpha:\n",
        "  print('Reject The Null Hypothesis : Political affiliation and news source are not independent')\n",
        "else:\n",
        "  print('Fail to reject the Null Hypothesis : Political affiliation and news source are independent ')"
      ],
      "metadata": {
        "id": "PlslxSbzn9Kr"
      },
      "execution_count": null,
      "outputs": []
    },
    {
      "cell_type": "markdown",
      "source": [
        "## 3️⃣1️⃣ Does Exercise Frequency Affect Obesity?\n",
        "Researchers analyze whether exercise frequency influences obesity rates.\n",
        "\n"
      ],
      "metadata": {
        "id": "36o4C7Wzu1iq"
      }
    },
    {
      "cell_type": "code",
      "source": [
        "data = np.array([[200, 300], [150, 250], [100, 400]])\n",
        "df = pd.DataFrame(data, columns=[\"Obese\", \"Not Obese\"], index=[\"No Exercise\", \"Occasional\", \"Regular\"])\n",
        "\n",
        "\n",
        "# H₀: Exercise frequency and obesity are independent.\n",
        "# H₁: Exercise frequency influences obesity.\n",
        "\n",
        "chi2_stats, p_value, dof,expected = chi2_contingency(df)\n",
        "\n",
        "print(f\"Chi-Square: {chi2_stats:.2f},\\np-value: {p_value:.4f}\\n{80*'='}\")\n",
        "\n",
        "alpha = 0.05\n",
        "\n",
        "\n",
        "if p_value < alpha:\n",
        "  print('Reject The Null Hypothesis : Exercise frequency and obesity are not independent')\n",
        "else:\n",
        "  print('Fail to reject the Null Hypothesis : Exercise frequency and obesity are independent.')\n",
        "\n"
      ],
      "metadata": {
        "id": "Jr77WKSVu1Lq"
      },
      "execution_count": null,
      "outputs": []
    },
    {
      "cell_type": "markdown",
      "source": [
        "## 3️⃣2️⃣ Does Smoking Habit Depend on Age Group?\n",
        "A survey studies the relationship between smoking habits and age groups.\n",
        "\n"
      ],
      "metadata": {
        "id": "DjOoKHuVvJNP"
      }
    },
    {
      "cell_type": "code",
      "source": [
        "data = np.array([[120, 180], [150, 250], [200, 300]])\n",
        "df = pd.DataFrame(data, columns=[\"Smoker\", \"Non-Smoker\"], index=[\"18-30\", \"31-50\", \"51+\"])\n",
        "\n",
        "\n",
        "# H₀: Smoking habit and age group are independent.\n",
        "# H₁: Smoking habit is related to age group.\n",
        "\n",
        "chi2_stats, p_value, dof,expected = chi2_contingency(df)\n",
        "\n",
        "print(f\"Chi-Square: {chi2_stats:.2f},\\np-value: {p_value:.4f}\\n{80*'='}\")\n",
        "\n",
        "alpha = 0.05\n",
        "\n",
        "\n",
        "if p_value < alpha:\n",
        "  print('Reject The Null Hypothesis : Smoking habit and age group are not independent.')\n",
        "else:\n",
        "  print('Fail to reject the Null Hypothesis : Smoking habit and age group are independent.')\n",
        "\n",
        ""
      ],
      "metadata": {
        "id": "XVutyl55u1IR"
      },
      "execution_count": null,
      "outputs": []
    },
    {
      "cell_type": "markdown",
      "source": [
        "## 3️⃣3️⃣ Does Social Media Usage Depend on Profession?\n",
        "Researchers investigate if social media usage is linked to different professions.\n",
        "\n"
      ],
      "metadata": {
        "id": "DVmqD7llvdY4"
      }
    },
    {
      "cell_type": "code",
      "source": [
        "data = np.array([[300, 200], [250, 250], [200, 300]])\n",
        "df = pd.DataFrame(data, columns=[\"Heavy User\", \"Light User\"], index=[\"IT\", \"Education\", \"Healthcare\"])\n",
        "\n",
        "\n",
        "# H₀: Profession and social media usage are independent.\n",
        "# H₁: Profession influences social media usage.\n",
        "\n",
        "chi2_stats, p_value, dof,expected = chi2_contingency(df)\n",
        "\n",
        "print(f\"Chi-Square: {chi2_stats:.2f},\\np-value: {p_value:.4f}\\n{80*'='}\")\n",
        "\n",
        "alpha = 0.05\n",
        "\n",
        "\n",
        "if p_value < alpha:\n",
        "  print('Reject The Null Hypothesis : Profession and social media usage are not independent.')\n",
        "else:\n",
        "  print('Fail to reject the Null Hypothesis : Profession and social media usage are independent.')\n",
        "\n",
        ""
      ],
      "metadata": {
        "id": "qXW081eKu1FZ"
      },
      "execution_count": null,
      "outputs": []
    },
    {
      "cell_type": "markdown",
      "source": [
        "## 3️⃣4️⃣ Does Internet Usage Depend on Gender?\n",
        "A study examines whether men and women use the internet differently.\n"
      ],
      "metadata": {
        "id": "pBT3g7tTv3yc"
      }
    },
    {
      "cell_type": "code",
      "source": [
        "data = np.array([[250, 300], [200, 250]])\n",
        "df = pd.DataFrame(data, columns=[\"Frequent User\", \"Occasional User\"], index=[\"Male\", \"Female\"])\n",
        "\n",
        "\n",
        "# H₀: Gender and internet usage are independent.\n",
        "# H₁: Gender affects internet usage.\n",
        "\n",
        "chi2_stats, p_value, dof,expected = chi2_contingency(df)\n",
        "\n",
        "print(f\"Chi-Square: {chi2_stats:.2f},\\np-value: {p_value:.4f}\\n{80*'='}\")\n",
        "\n",
        "alpha = 0.05\n",
        "\n",
        "\n",
        "if p_value < alpha:\n",
        "  print('Reject The Null Hypothesis : Gender and internet usage are not independent.')\n",
        "else:\n",
        "  print('Fail to reject the Null Hypothesis : Gender and internet usage are independent.')\n",
        "\n",
        ""
      ],
      "metadata": {
        "id": "ULmTeL_iu1CR"
      },
      "execution_count": null,
      "outputs": []
    },
    {
      "cell_type": "markdown",
      "source": [
        "## 3️⃣5️⃣ Does Marital Status Affect Financial Stability?\n",
        "A financial study checks if being married impacts financial stability.\n",
        "\n"
      ],
      "metadata": {
        "id": "YfWkI6YwxDG0"
      }
    },
    {
      "cell_type": "code",
      "source": [
        "data = np.array([[180, 220], [240, 160]])\n",
        "df = pd.DataFrame(data, columns=[\"Stable\", \"Unstable\"], index=[\"Married\", \"Single\"])\n",
        "\n",
        "\n",
        "# H₀: Marital status and financial stability are independent.\n",
        "# H₁: Marital status affects financial stability.\n",
        "\n",
        "chi2_stats, p_value, dof,expected = chi2_contingency(df)\n",
        "\n",
        "print(f\"Chi-Square: {chi2_stats:.2f},\\np-value: {p_value:.4f}\\n{80*'='}\")\n",
        "\n",
        "alpha = 0.05\n",
        "\n",
        "\n",
        "if p_value < alpha:\n",
        "  print('Reject The Null Hypothesis :Marital status and financial stability are not independent.')\n",
        "else:\n",
        "  print('Fail to reject the Null Hypothesis : Marital status and financial stability are independent')\n",
        "\n",
        ""
      ],
      "metadata": {
        "id": "c8RpUIaaxAew"
      },
      "execution_count": null,
      "outputs": []
    },
    {
      "cell_type": "markdown",
      "source": [
        "## 3️⃣6️⃣ Does Region Affect Voting Preference?\n",
        "A political survey examines if voting patterns differ by region.\n"
      ],
      "metadata": {
        "id": "3VA_8DJ-xf8p"
      }
    },
    {
      "cell_type": "code",
      "source": [
        "data = np.array([[100, 150, 250], [200, 180, 120], [170, 140, 190]])\n",
        "df = pd.DataFrame(data, columns=[\"Party A\", \"Party B\", \"Party C\"], index=[\"North\", \"South\", \"West\"])\n",
        "\n",
        "\n",
        "# H₀: Region and voting preference are independent.\n",
        "# H₁: Region influences voting preference.\n",
        "\n",
        "chi2_stats, p_value, dof,expected = chi2_contingency(df)\n",
        "\n",
        "print(f\"Chi-Square: {chi2_stats:.2f},\\np-value: {p_value:.4f}\\n{80*'='}\")\n",
        "\n",
        "alpha = 0.05\n",
        "\n",
        "\n",
        "if p_value < alpha:\n",
        "  print('Reject The Null Hypothesis :  Region and voting preference are not independent.')\n",
        "else:\n",
        "  print('Fail to reject the Null Hypothesis :  Region and voting preference are independent')\n",
        "\n",
        ""
      ],
      "metadata": {
        "id": "b-uFXz7cxAbX"
      },
      "execution_count": null,
      "outputs": []
    },
    {
      "cell_type": "markdown",
      "source": [
        "## 3️⃣7️⃣ Does Food Preference Depend on Ethnicity?\n",
        "A study looks at food preferences among different ethnic groups.\n",
        "\n"
      ],
      "metadata": {
        "id": "xmbMpe1wx3ck"
      }
    },
    {
      "cell_type": "code",
      "source": [
        "data = np.array([[130, 170, 200], [150, 180, 170], [140, 160, 180]])\n",
        "df = pd.DataFrame(data, columns=[\"Vegetarian\", \"Non-Vegetarian\", \"Vegan\"], index=[\"Group A\", \"Group B\", \"Group C\"])\n",
        "\n",
        "\n",
        "# H₀: Ethnicity and food preference are independent.\n",
        "# H₁: Ethnicity affects food preference.\n",
        "\n",
        "chi2_stats, p_value, dof,expected = chi2_contingency(df)\n",
        "\n",
        "print(f\"Chi-Square: {chi2_stats:.2f},\\np-value: {p_value:.4f}\\n{80*'='}\")\n",
        "\n",
        "alpha = 0.05\n",
        "\n",
        "\n",
        "if p_value < alpha:\n",
        "  print('Reject The Null Hypothesis : Ethnicity and food preference are not independent')\n",
        "else:\n",
        "  print('Fail to reject the Null Hypothesis : Ethnicity and food preference are independent')\n",
        "\n",
        ""
      ],
      "metadata": {
        "id": "28SuSFNRxAYE"
      },
      "execution_count": null,
      "outputs": []
    },
    {
      "cell_type": "markdown",
      "source": [
        "## 3️⃣8️⃣ Does Location Affect Transportation Choice?\n",
        "A survey examines if people from urban, suburban, and rural areas prefer different transportation modes.\n",
        "\n"
      ],
      "metadata": {
        "id": "HhbRm_buyNX8"
      }
    },
    {
      "cell_type": "code",
      "source": [
        "data = np.array([[200, 250, 150], [180, 220, 200], [140, 160, 250]])\n",
        "df = pd.DataFrame(data, columns=[\"Car\", \"Public Transport\", \"Bike\"], index=[\"Urban\", \"Suburban\", \"Rural\"])\n",
        "\n",
        "\n",
        "# H₀: Location and transportation choice are independent.\n",
        "# H₁: Location affects transportation preference.\n",
        "\n",
        "chi2_stats, p_value, dof,expected = chi2_contingency(df)\n",
        "\n",
        "print(f\"Chi-Square: {chi2_stats:.2f},\\np-value: {p_value:.4f}\\n{80*'='}\")\n",
        "\n",
        "alpha = 0.05\n",
        "\n",
        "\n",
        "if p_value < alpha:\n",
        "  print('Reject The Null Hypothesis : Location and transportation choice are not independent.')\n",
        "else:\n",
        "  print('Fail to reject the Null Hypothesis :Location and transportation choice are independent.')\n",
        "\n",
        ""
      ],
      "metadata": {
        "id": "IfOYYUZvxAVJ"
      },
      "execution_count": null,
      "outputs": []
    },
    {
      "cell_type": "markdown",
      "source": [
        "## 3️⃣9️⃣ Does Age Affect Online Shopping Frequency?\n",
        "A study examines if age groups influence online shopping habits.\n",
        "\n"
      ],
      "metadata": {
        "id": "7hdY022vymJS"
      }
    },
    {
      "cell_type": "code",
      "source": [
        "data = np.array([[250, 150, 100], [200, 180, 150], [140, 200, 160]])\n",
        "df = pd.DataFrame(data, columns=[\"Frequent\", \"Occasional\", \"Rare\"], index=[\"18-30\", \"31-50\", \"51+\"])\n",
        "\n",
        "\n",
        "# H₀: Age group and online shopping frequency are independent.\n",
        "# H₁: Age group affects online shopping habits.\n",
        "\n",
        "\n",
        "chi2_stats, p_value, dof,expected = chi2_contingency(df)\n",
        "\n",
        "print(f\"Chi-Square: {chi2_stats:.2f},\\np-value: {p_value:.4f}\\n{80*'='}\")\n",
        "\n",
        "alpha = 0.05\n",
        "\n",
        "\n",
        "if p_value < alpha:\n",
        "  print('Reject The Null Hypothesis : Age group and online shopping frequency are not independent.')\n",
        "else:\n",
        "  print('Fail to reject the Null Hypothesis : Age group and online shopping frequency are independent.')\n",
        "\n",
        ""
      ],
      "metadata": {
        "id": "JzkPqVA-u0_W"
      },
      "execution_count": null,
      "outputs": []
    },
    {
      "cell_type": "markdown",
      "source": [
        "## 4️⃣0️⃣ Does Region Affect Internet Speed Satisfaction?\n",
        "A telecom survey investigates if internet speed satisfaction varies by region.\n",
        "\n"
      ],
      "metadata": {
        "id": "BuWF4vonzEa1"
      }
    },
    {
      "cell_type": "code",
      "source": [
        "data = np.array([[100, 200, 250], [150, 220, 180], [200, 170, 160]])\n",
        "df = pd.DataFrame(data, columns=[\"Satisfied\", \"Neutral\", \"Dissatisfied\"], index=[\"City A\", \"City B\", \"City C\"])\n",
        "\n",
        "\n",
        "# H₀: Region and internet speed satisfaction are independent.\n",
        "# H₁: Region influences internet speed satisfaction.\n",
        "\n",
        "chi2_stats, p_value, dof,expected = chi2_contingency(df)\n",
        "\n",
        "print(f\"Chi-Square: {chi2_stats:.2f},\\np-value: {p_value:.4f}\\n{80*'='}\")\n",
        "\n",
        "alpha = 0.05\n",
        "\n",
        "\n",
        "if p_value < alpha:\n",
        "  print('Reject The Null Hypothesis : Region and internet speed satisfaction are not independent.')\n",
        "else:\n",
        "  print('Fail to reject the Null Hypothesis : Region and internet speed satisfaction are independent.')\n"
      ],
      "metadata": {
        "id": "9LYhggR8zyQj"
      },
      "execution_count": null,
      "outputs": []
    },
    {
      "cell_type": "markdown",
      "source": [
        "## Is a six-sided die fair?\n",
        "\n",
        "A die was rolled 60 times, and the results were:\n",
        "\n",
        "1 → 8 times\n",
        "\n",
        "2 → 10 times\n",
        "\n",
        "3 → 12 times\n",
        "\n",
        "4 → 14 times\n",
        "\n",
        "5 → 9 times\n",
        "\n",
        "6 → 7 times"
      ],
      "metadata": {
        "id": "cCAtSMmXzbBW"
      }
    },
    {
      "cell_type": "code",
      "execution_count": null,
      "metadata": {
        "id": "zPGB4Z_XzR3X"
      },
      "outputs": [],
      "source": [
        "observed_roll = [8,10,12,14,9,7]\n",
        "expected_rolls = [10, 10, 10, 10, 10, 10]\n",
        "\n",
        "import scipy.stats  as stats\n",
        "\n",
        "chi2_stat, p_value = stats.chisquare(observed_roll,expected_rolls)\n",
        "print(f\"Chi-Square Statistic: {chi2_stat}\")\n",
        "print(f\"P-value: {p_value}\\n\")\n",
        "\n",
        "if p_value < 0.05:\n",
        "  print('Reject the null hypothesis: The die is not fair')\n",
        "else:\n",
        "  print('Fail to reject the null hypothesis The die appears fair')"
      ]
    },
    {
      "cell_type": "markdown",
      "source": [
        "## Are customer visits to a store evenly distributed across the week?\n",
        "Observed visits:\n",
        "\n",
        "Monday → 120\n",
        "\n",
        "Tuesday → 150\n",
        "\n",
        "Wednesday → 180\n",
        "\n",
        "Thursday → 160\n",
        "\n",
        "Friday → 140\n",
        "\n",
        "Saturday → 130\n",
        "\n",
        "Sunday → 110"
      ],
      "metadata": {
        "id": "HEt2gHCP1eu7"
      }
    },
    {
      "cell_type": "code",
      "source": [
        "# Observed frequencies\n",
        "observed_visits = [120, 150, 180, 160, 140, 130, 110]\n",
        "expected_visits = [sum(observed_visits) / 7] *7\n",
        "\n",
        "chi_stats, p_value = stats.chisquare(observed_visits,expected_visits)\n",
        "\n",
        "if p_value < 0.05:\n",
        "    print(\"Reject Null Hypothesis: Customer visits are NOT evenly distributed.\")\n",
        "else:\n",
        "    print(\"Fail to Reject Null Hypothesis: Customer visits appear evenly distributed.\")"
      ],
      "metadata": {
        "id": "Q3vFBVqo0Gum"
      },
      "execution_count": null,
      "outputs": []
    }
  ]
}