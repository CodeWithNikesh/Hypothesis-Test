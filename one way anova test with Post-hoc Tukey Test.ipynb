{
 "cells": [
  {
   "cell_type": "markdown",
   "metadata": {},
   "source": [
    " # ANOVA (Analysis of Variance):\n",
    "#### ANOVA is a statistical test used to compare the means of three or more groups to determine if there is a statistically significant difference between them. The goal of ANOVA is to assess whether the variation in data is due to the factor being tested or due to random chance.\n",
    "\n",
    "## One-Way ANOVA:\n",
    "##### One-Way ANOVA is a specific type of ANOVA that tests whether there is a significant difference in the means of three or more independent groups based on a single factor or independent variable."
   ]
  },
  {
   "cell_type": "markdown",
   "metadata": {},
   "source": [
    "## 1. Testing if there is a significant difference in the mean heights of plants across different fertilizer types.\n",
    "- Null Hypothesis (H₀): There is no significant difference in the mean height of plants across different fertilizer types (μ₁ = μ₂ = μ₃).\n",
    "- Alternative Hypothesis (H₁): At least one fertilizer type leads to a different mean height compared to the others."
   ]
  },
  {
   "cell_type": "code",
   "execution_count": 2,
   "metadata": {},
   "outputs": [
    {
     "name": "stdout",
     "output_type": "stream",
     "text": [
      "F-statistic: 116.66666666666622\n",
      "p-value: 1.3694561117818263e-08\n",
      "**************************************************\n",
      "Reject H₀: There is a significant difference in the mean height of plants.\n",
      "Multiple Comparison of Means - Tukey HSD, FWER=0.05 \n",
      "====================================================\n",
      "group1 group2 meandiff p-adj   lower   upper  reject\n",
      "----------------------------------------------------\n",
      "     A      B      5.0 0.0008  2.3321  7.6679   True\n",
      "     A      C     15.0    0.0 12.3321 17.6679   True\n",
      "     B      C     10.0    0.0  7.3321 12.6679   True\n",
      "----------------------------------------------------\n"
     ]
    }
   ],
   "source": [
    "import numpy as np\n",
    "from scipy import stats\n",
    "import statsmodels.api as sm\n",
    "from statsmodels.formula.api import ols\n",
    "from statsmodels.stats.multicomp import pairwise_tukeyhsd\n",
    "\n",
    "# Sample data for 3 fertilizer types\n",
    "fertilizer_A = [15, 16, 14, 13, 17]\n",
    "fertilizer_B = [20, 19, 21, 22, 18]\n",
    "fertilizer_C = [30, 28, 32, 31, 29]\n",
    "\n",
    "# Perform One-Way ANOVA\n",
    "F_statistic, p_value = stats.f_oneway(fertilizer_A, fertilizer_B, fertilizer_C)\n",
    "print(\"F-statistic:\", F_statistic)\n",
    "print(\"p-value:\", p_value)\n",
    "print('*'*50)\n",
    "if p_value < 0.05:\n",
    "    print(\"Reject H₀: There is a significant difference in the mean height of plants.\")\n",
    "    \n",
    "    # Perform Tukey's Post-hoc Test\n",
    "    data = np.array([fertilizer_A, fertilizer_B, fertilizer_C]).flatten()\n",
    "    groups = ['A']*len(fertilizer_A) + ['B']*len(fertilizer_B) + ['C']*len(fertilizer_C)\n",
    "    tukey = pairwise_tukeyhsd(data, groups, alpha=0.05)\n",
    "    print(tukey)\n",
    "else:\n",
    "    print(\"Fail to reject H₀: No significant difference.\")\n"
   ]
  },
  {
   "cell_type": "markdown",
   "metadata": {},
   "source": [
    "## 2. Testing if the mean satisfaction scores differ across marketing campaigns.\n",
    "- Null Hypothesis (H₀): The mean satisfaction scores are the same across all marketing campaigns.\n",
    "- Alternative Hypothesis (H₁): At least one marketing campaign leads to a significantly different mean satisfaction score."
   ]
  },
  {
   "cell_type": "code",
   "execution_count": 3,
   "metadata": {},
   "outputs": [
    {
     "name": "stdout",
     "output_type": "stream",
     "text": [
      "f_stats: 40.88484848484848\n",
      "p_value: 4.392506381684241e-06\n",
      "**************************************************\n",
      "Reject the null hypotheis: At lest one marketing campagin lead to a significantly differnt mean\n",
      " Multiple Comparison of Means - Tukey HSD, FWER=0.05 \n",
      "=====================================================\n",
      "group1 group2 meandiff p-adj   lower    upper  reject\n",
      "-----------------------------------------------------\n",
      "     a      b     -7.2 0.0011 -11.1571 -3.2429   True\n",
      "     a      c      6.2 0.0034   2.2429 10.1571   True\n",
      "     b      c     13.4    0.0   9.4429 17.3571   True\n",
      "-----------------------------------------------------\n"
     ]
    }
   ],
   "source": [
    "campaign_A = [75, 78, 80, 79, 74]\n",
    "campaign_B = [68, 70, 72, 71, 69]\n",
    "campaign_C = [82, 85, 87, 83, 80]\n",
    "\n",
    "f_stats,p_value = stats.f_oneway(campaign_A,campaign_B,campaign_C)\n",
    "print(f'f_stats: {f_stats}\\np_value: {p_value}')\n",
    "\n",
    "print('*'*50)\n",
    "\n",
    "alpha = 0.05\n",
    "\n",
    "if p_value < alpha:\n",
    "    print('Reject the null hypotheis: At lest one marketing campagin lead to a significantly differnt mean')\n",
    "\n",
    "    data = np.array([campaign_A,campaign_B,campaign_C]).flatten()\n",
    "    groups = ['a']*len(campaign_A) + ['b']*len(campaign_B) + ['c']*len(campaign_C)\n",
    "    tukey = pairwise_tukeyhsd(data,groups,alpha=0.05)\n",
    "    print(tukey)\n",
    "else:\n",
    "    print('Faild to reject the null hypothesis')"
   ]
  },
  {
   "cell_type": "markdown",
   "metadata": {},
   "source": [
    "## 3. Testing if the mean weight loss differs between three exercise routines.\n",
    "- Null Hypothesis (H₀): The mean weight loss is the same across all exercise routines.\n",
    "- Alternative Hypothesis (H₁): At least one exercise routine results in a significantly different mean weight loss."
   ]
  },
  {
   "cell_type": "code",
   "execution_count": 9,
   "metadata": {},
   "outputs": [
    {
     "name": "stdout",
     "output_type": "stream",
     "text": [
      "f_stats: 68.8704883227176\n",
      "p_value: 2.6487654813248643e-07\n",
      "**************************************************\n",
      "Reject H₀: at least one exercise routin mean weight loss is differs\n",
      "**************************************************\n",
      "Multiple Comparison of Means - Tukey HSD, FWER=0.05 \n",
      "====================================================\n",
      "group1 group2 meandiff p-adj   lower   upper  reject\n",
      "----------------------------------------------------\n",
      "     a      b     -1.4 0.0003 -2.0686 -0.7314   True\n",
      "     a      c     1.54 0.0001  0.8714  2.2086   True\n",
      "     b      c     2.94    0.0  2.2714  3.6086   True\n",
      "----------------------------------------------------\n"
     ]
    }
   ],
   "source": [
    "routine_A = [2, 3, 2.5, 3.5, 2.8]\n",
    "routine_B = [1, 1.5, 1.2, 1.3, 1.8]\n",
    "routine_C = [4, 4.5, 4.3, 4.1, 4.6]\n",
    "\n",
    "f_stats,p_value = stats.f_oneway(routine_A,routine_B,routine_C)\n",
    "print(f'f_stats: {f_stats}\\np_value: {p_value}')\n",
    "\n",
    "print('*'*50)\n",
    "\n",
    "alpha = 0.05\n",
    "\n",
    "if p_value < alpha:\n",
    "    print('Reject H₀: at least one exercise routin mean weight loss is differs')\n",
    "    print('*'*50)\n",
    "    # Tukey HSD\n",
    "\n",
    "    data = np.array([routine_A,routine_B,routine_C]).flatten()\n",
    "    groups = ['a']*len(routine_A) + ['b'] * len(routine_B) + ['c'] * len(routine_C)\n",
    "\n",
    "    tukey = pairwise_tukeyhsd(data,groups,alpha = 0.05)\n",
    "    print(tukey)"
   ]
  },
  {
   "cell_type": "markdown",
   "metadata": {},
   "source": [
    "## 4. Testing if customer satisfaction differs across different age groups.\n",
    "- Null Hypothesis (H₀): Customer satisfaction is the same across age groups.\n",
    "- Alternative Hypothesis (H₁): At least one age group has a different mean customer satisfaction."
   ]
  },
  {
   "cell_type": "code",
   "execution_count": 13,
   "metadata": {},
   "outputs": [
    {
     "name": "stdout",
     "output_type": "stream",
     "text": [
      "f_stats: 82.03463203463215\n",
      "p_value: 1.0022733490302527e-07\n",
      "**************************************************\n",
      "Reject H0: At lest one age group has different mean customer satisfaction\n",
      "**************************************************\n",
      " Multiple Comparison of Means - Tukey HSD, FWER=0.05  \n",
      "======================================================\n",
      "group1 group2 meandiff p-adj   lower    upper   reject\n",
      "------------------------------------------------------\n",
      " 18-25  26-35     -7.0 0.0047 -11.6821  -2.3179   True\n",
      " 18-25  36-50    -22.0    0.0 -26.6821 -17.3179   True\n",
      " 26-35  36-50    -15.0    0.0 -19.6821 -10.3179   True\n",
      "------------------------------------------------------\n"
     ]
    }
   ],
   "source": [
    "group_18_25 = [80, 85, 90, 87, 82]\n",
    "group_26_35 = [75, 80, 78, 79, 77]\n",
    "group_36_50 = [60, 65, 62, 64, 63]\n",
    "\n",
    "f_stats,p_value = stats.f_oneway(group_18_25,group_26_35,group_36_50)\n",
    "print(f'f_stats: {f_stats}\\np_value: {p_value}')\n",
    "\n",
    "print('*'*50)\n",
    "\n",
    "alpha = 0.05\n",
    "\n",
    "if p_value < alpha:\n",
    "    print('Reject H0: At lest one age group has different mean customer satisfaction')\n",
    "    print('*'*50)\n",
    "    # tukey hsd\n",
    "    data = np.array([group_18_25,group_26_35,group_36_50]).flatten()\n",
    "    group = ['18-25']*len(group_18_25) + ['26-35']*len(group_26_35) + ['36-50']  * len(group_36_50)\n",
    "\n",
    "    tukey = pairwise_tukeyhsd(data,group,alpha=0.05)\n",
    "    print(tukey)\n",
    "else:\n",
    "    print('faild to reject the null hypothesis')"
   ]
  },
  {
   "cell_type": "markdown",
   "metadata": {},
   "source": [
    "## 5. Testing if product ratings differ across categories.\n",
    "- Null Hypothesis (H₀): Product ratings are the same across categories.\n",
    "- Alternative Hypothesis (H₁): At least one product category has a different mean rating."
   ]
  },
  {
   "cell_type": "code",
   "execution_count": 15,
   "metadata": {},
   "outputs": [
    {
     "name": "stdout",
     "output_type": "stream",
     "text": [
      "f_stats: 14.588235294117638\n",
      "p_value: 0.0006126222478125284\n",
      "**************************************************\n",
      "[Reject the H0 : At least one product category has a different mean rating]\n",
      "Multiple Comparison of Means - Tukey HSD, FWER=0.05 \n",
      "====================================================\n",
      "group1 group2 meandiff p-adj   lower   upper  reject\n",
      "----------------------------------------------------\n",
      " cat a  cat b     -2.0 0.0033 -3.2702 -0.7298   True\n",
      " cat a  cat c      0.4 0.6863 -0.8702  1.6702  False\n",
      " cat b  cat c      2.4 0.0008  1.1298  3.6702   True\n",
      "----------------------------------------------------\n"
     ]
    }
   ],
   "source": [
    "category_A_ratings = [4, 5, 3, 4, 5]\n",
    "category_B_ratings = [2, 3, 2, 3, 1]\n",
    "category_C_ratings = [5, 5, 4, 4, 5]\n",
    "\n",
    "f_stats,p_value = stats.f_oneway(category_A_ratings,category_B_ratings,category_C_ratings)\n",
    "print(f'f_stats: {f_stats}\\np_value: {p_value}')\n",
    "\n",
    "print('*'*50)\n",
    "\n",
    "alpha = 0.05\n",
    "\n",
    "if p_value < alpha:\n",
    "    print('[Reject the H0 : At least one product category has a different mean rating]')\n",
    "\n",
    "    # tukey hsd test\n",
    "    data = np.array([category_A_ratings,category_B_ratings,category_C_ratings]).flatten()\n",
    "    groups = ['cat a'] * len(category_A_ratings) + ['cat b'] * len(category_B_ratings) + ['cat c'] * len(category_C_ratings)\n",
    "\n",
    "    tukey = pairwise_tukeyhsd(data, groups,alpha=0.05)\n",
    "\n",
    "    print(tukey)\n",
    "else:\n",
    "    print('Faild to reject the null hypothesis')"
   ]
  },
  {
   "cell_type": "markdown",
   "metadata": {},
   "source": [
    "# apply one way anova and Post-hoc Tukey hsdon  test Titanic dataset"
   ]
  },
  {
   "cell_type": "code",
   "execution_count": 19,
   "metadata": {},
   "outputs": [
    {
     "name": "stdout",
     "output_type": "stream",
     "text": [
      "<class 'pandas.core.frame.DataFrame'>\n",
      "RangeIndex: 891 entries, 0 to 890\n",
      "Data columns (total 15 columns):\n",
      " #   Column       Non-Null Count  Dtype   \n",
      "---  ------       --------------  -----   \n",
      " 0   survived     891 non-null    int64   \n",
      " 1   pclass       891 non-null    int64   \n",
      " 2   sex          891 non-null    object  \n",
      " 3   age          714 non-null    float64 \n",
      " 4   sibsp        891 non-null    int64   \n",
      " 5   parch        891 non-null    int64   \n",
      " 6   fare         891 non-null    float64 \n",
      " 7   embarked     889 non-null    object  \n",
      " 8   class        891 non-null    category\n",
      " 9   who          891 non-null    object  \n",
      " 10  adult_male   891 non-null    bool    \n",
      " 11  deck         203 non-null    category\n",
      " 12  embark_town  889 non-null    object  \n",
      " 13  alive        891 non-null    object  \n",
      " 14  alone        891 non-null    bool    \n",
      "dtypes: bool(2), category(2), float64(2), int64(4), object(5)\n",
      "memory usage: 80.7+ KB\n"
     ]
    }
   ],
   "source": [
    "# loading module\n",
    "import pandas as pd\n",
    "import numpy as np\n",
    "import seaborn as sns\n",
    "from scipy import stats\n",
    "from statsmodels.stats.multicomp import pairwise_tukeyhsd\n",
    "\n",
    "# loading titanic dataset\n",
    "\n",
    "titanic = sns.load_dataset('titanic')\n",
    "titanic.info()"
   ]
  },
  {
   "cell_type": "markdown",
   "metadata": {},
   "source": [
    "### categorical columns:\n",
    "\n",
    "- pclass: Passenger class (1, 2, 3)\n",
    "- sex: Gender of the passenger (male, female)\n",
    "- age: Age of the passenger\n",
    "- fare: Ticket fare\n",
    "- embarked: Embarkation point (C = Cherbourg, Q = Queenstown, S = Southampton)\n",
    "- survived: Survival status (0 = No, 1 = Yes)"
   ]
  },
  {
   "cell_type": "code",
   "execution_count": null,
   "metadata": {},
   "outputs": [],
   "source": [
    "# preprocessing on data\n",
    "\n",
    "titanic = titanic.dropna(subset=['age','fare','pclass','sex','embarked'])\n",
    "\n",
    "# converting data type obj to categorical\n",
    "titanic['sex'] = titanic['sex'].astype('category')\n",
    "titanic['embarked'] = titanic['embarked'].astype('category')"
   ]
  },
  {
   "cell_type": "markdown",
   "metadata": {},
   "source": [
    "### question  1: Testing if the mean fare differs by passenger class\n",
    "- Null Hypothesis (H₀): The mean fare is the same across all passenger classes (pclass).\n",
    "- Alternative Hypothesis (H₁): The mean fare differs across passenger classes."
   ]
  },
  {
   "cell_type": "code",
   "execution_count": 33,
   "metadata": {},
   "outputs": [
    {
     "name": "stdout",
     "output_type": "stream",
     "text": [
      "f_stats: 199.51520026428128\n",
      "p_value: 1.821885989198717e-69\n",
      "**************************************************\n",
      "Reject  the null hypothesis: mean fare are differs across passenger\n",
      " Multiple Comparison of Means - Tukey HSD, FWER=0.05  \n",
      "======================================================\n",
      "group1 group2 meandiff p-adj   lower    upper   reject\n",
      "------------------------------------------------------\n",
      "     1      2 -66.5766    0.0 -77.1241  -56.029   True\n",
      "     1      3 -74.8187    0.0  -83.866 -65.7714   True\n",
      "     2      3  -8.2421 0.0913 -17.4769   0.9927  False\n",
      "------------------------------------------------------\n"
     ]
    }
   ],
   "source": [
    "# group fares by passenger class\n",
    "pclass_1 = titanic[titanic['pclass']==1]['fare']\n",
    "pclass_2 = titanic[titanic['pclass']==2]['fare']\n",
    "pclass_3 = titanic[titanic['pclass']==3]['fare']\n",
    "\n",
    "f_stats,p_value = stats.f_oneway(pclass_1,pclass_2,pclass_3)\n",
    "\n",
    "print(f'f_stats: {f_stats}\\np_value: {p_value}')\n",
    "print('*'*50)\n",
    "\n",
    "# alpha value \n",
    "alpha = 0.05\n",
    "\n",
    "if p_value < alpha:\n",
    "    print('Reject  the null hypothesis: mean fare are differs across passenger')\n",
    "\n",
    "    groups = ['1'] * len(pclass_1) + ['2' ] * len(pclass_2) + ['3'] * len(pclass_3)\n",
    "    data = np.concatenate([pclass_1,pclass_2,pclass_3])\n",
    "\n",
    "    # tukey hsd test\n",
    "    tukey = pairwise_tukeyhsd(data,groups,alpha=alpha)\n",
    "    print(tukey)\n",
    "else:\n",
    "    print('Faild to reject the null hypothesis')"
   ]
  },
  {
   "cell_type": "markdown",
   "metadata": {},
   "source": [
    "### question 2: Testing if the mean fare differs by embarkation point (Embarked)\n",
    "- Null Hypothesis (H₀): The mean fare is the same across all embarkation points (C, Q, S).\n",
    "- Alternative Hypothesis (H₁): The mean fare differs across embarkation points."
   ]
  },
  {
   "cell_type": "code",
   "execution_count": null,
   "metadata": {},
   "outputs": [
    {
     "name": "stdout",
     "output_type": "stream",
     "text": [
      "f_stats: 35.892190453113834\n",
      "p_value: 1.4184349041133077e-15\n",
      "**************************************************\n",
      "reject the null hypothesis: the mean fare differ\n",
      "     Multiple Comparison of Means - Tukey HSD, FWER=0.05     \n",
      "=============================================================\n",
      "  group1     group2   meandiff p-adj   lower    upper  reject\n",
      "-------------------------------------------------------------\n",
      "embarked_c embarked_q  -5.2432  0.882 -31.0403 20.5538  False\n",
      "embarked_c embarked_s  12.2486 0.0457   0.1817 24.3154   True\n",
      "embarked_q embarked_s  17.4918  0.201  -6.4921 41.4757  False\n",
      "-------------------------------------------------------------\n",
      "68.29676692307693 18.265774999999998\n"
     ]
    }
   ],
   "source": [
    "embarked_c = titanic[titanic['embarked']=='C']['fare']\n",
    "embarked_q = titanic[titanic['embarked']=='Q']['fare']\n",
    "embarked_s = titanic[titanic['embarked']=='S']['fare']\n",
    "\n",
    "f_stats,p_value = stats.f_oneway(embarked_c,embarked_q,embarked_s)\n",
    "\n",
    "print(f'f_stats: {f_stats}\\np_value: {p_value}')\n",
    "print('*'*50)\n",
    "\n",
    "# alpha value \n",
    "alpha = 0.05\n",
    "\n",
    "if p_value < alpha:\n",
    "    print('reject the null hypothesis: the mean fare differ')\n",
    "\n",
    "    data = np.concat([embarked_s,embarked_c,embarked_q])\n",
    "    group = ['embarked_c'] * len(embarked_c) + ['embarked_q'] * len(embarked_q) + ['embarked_s'] * len(embarked_s)\n",
    "\n",
    "    # tukey hsd test\n",
    "    tukey = pairwise_tukeyhsd(data,group,alpha=alpha)\n",
    "    print(tukey)\n",
    "\n",
    "else:\n",
    "    print('Faild to reject the null hypothesis')\n"
   ]
  },
  {
   "cell_type": "markdown",
   "metadata": {},
   "source": [
    "### 3: Testing if the mean age differs by gender\n",
    "- Null Hypothesis (H₀): The mean age is the same for male and female passengers.\n",
    "- Alternative Hypothesis (H₁): The mean age differs by gender."
   ]
  },
  {
   "cell_type": "code",
   "execution_count": 42,
   "metadata": {},
   "outputs": [
    {
     "name": "stdout",
     "output_type": "stream",
     "text": [
      "f_stats: 7.032925899599193\n",
      "p_value: 0.008181084109248551\n",
      "**************************************************\n",
      "reject the null hypothesis: the mean age is differ\n",
      "  Multiple Comparison of Means - Tukey HSD, FWER=0.05   \n",
      "========================================================\n",
      "  group1    group2  meandiff p-adj  lower  upper  reject\n",
      "--------------------------------------------------------\n",
      "female_age male_age   2.9815 0.0082 0.7742 5.1887   True\n",
      "--------------------------------------------------------\n"
     ]
    }
   ],
   "source": [
    "male_age =  titanic[titanic['sex']=='male']['age']\n",
    "female_age = titanic[titanic['sex']=='female']['age']\n",
    "\n",
    "f_stats,p_value = stats.f_oneway(male_age,female_age)\n",
    "\n",
    "print(f'f_stats: {f_stats}\\np_value: {p_value}')\n",
    "print('*'*50)\n",
    "\n",
    "# alpha value \n",
    "alpha = 0.05\n",
    "\n",
    "if p_value < alpha:\n",
    "    print('reject the null hypothesis: the mean age is differ')\n",
    "\n",
    "    data = np.concat([male_age,female_age])\n",
    "    group = ['male_age'] * len(male_age) + ['female_age'] * len(female_age) \n",
    "\n",
    "    # tukey hsd test\n",
    "    tukey = pairwise_tukeyhsd(data,group,alpha=alpha)\n",
    "    print(tukey)\n",
    "\n",
    "else:\n",
    "    print('Faild to reject the null hypothesis')"
   ]
  },
  {
   "cell_type": "markdown",
   "metadata": {},
   "source": []
  }
 ],
 "metadata": {
  "kernelspec": {
   "display_name": "Python 3",
   "language": "python",
   "name": "python3"
  },
  "language_info": {
   "codemirror_mode": {
    "name": "ipython",
    "version": 3
   },
   "file_extension": ".py",
   "mimetype": "text/x-python",
   "name": "python",
   "nbconvert_exporter": "python",
   "pygments_lexer": "ipython3",
   "version": "3.13.0"
  }
 },
 "nbformat": 4,
 "nbformat_minor": 2
}
