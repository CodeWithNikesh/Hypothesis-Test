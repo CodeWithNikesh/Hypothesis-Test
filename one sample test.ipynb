{
 "cells": [
  {
   "cell_type": "markdown",
   "metadata": {},
   "source": [
    "# One-Sample T-Test\n",
    "\n",
    "- A one-sample t-test is a statistical test used to compare the average of a single sample to a known value (like a population average) to see if there is a significant difference between them.\n",
    "\n",
    "## When to use:\n",
    "- When you have one sample and want to compare its mean to a known value (like a population mean).\n",
    "\n",
    "- When you don't know the population's standard deviation, so you estimate it from your sample."
   ]
  },
  {
   "cell_type": "markdown",
   "metadata": {},
   "source": [
    "You have a sample of test scores from a class of 30 students. The sample mean is 85 with a standard deviation of 10. Test if the mean test score is different from 80. Use a significance level of 0.05."
   ]
  },
  {
   "cell_type": "code",
   "execution_count": null,
   "metadata": {},
   "outputs": [
    {
     "data": {
      "text/plain": [
       "(2.7386127875258306, 0.010437389498867411, 'Reject the null hypothesis')"
      ]
     },
     "execution_count": 11,
     "metadata": {},
     "output_type": "execute_result"
    }
   ],
   "source": [
    "import scipy.stats as st\n",
    "import numpy as np\n",
    "\n",
    "sample_size = 30\n",
    "sample_mean =85\n",
    "populaton_mean =80\n",
    "std_dev =10\n",
    "alpha = 0.05\n",
    "\n",
    "# calculating t_statistic\n",
    "\n",
    "t_statistic = (sample_mean - populaton_mean)/(std_dev/np.sqrt(sample_size))\n",
    "\n",
    "# calculating the degree of freedom\n",
    "\n",
    "dof = sample_size -1\n",
    "\n",
    "p_value = 2 *(1- st.t.cdf(abs(t_statistic),dof))\n",
    "\n",
    "# conclusion\n",
    "alpha = 0.05\n",
    "\n",
    "if p_value > alpha:\n",
    "    conclusion =  'Fail to reject the null hypothesis'\n",
    "else:\n",
    "    conclusion = 'Reject the null hypothesis'\n",
    "\n",
    "t_statistic,p_value,conclusion"
   ]
  },
  {
   "cell_type": "markdown",
   "metadata": {},
   "source": [
    "1. Example Question:\n",
    "- Question: Is the average weight of apples in a basket 150 grams?\n",
    "\n",
    "- Null Hypothesis (H₀): The mean weight of apples is 150 grams.\n",
    "- Alternative Hypothesis (H₁): The mean weight of apples is not 150 grams."
   ]
  },
  {
   "cell_type": "code",
   "execution_count": 5,
   "metadata": {},
   "outputs": [
    {
     "name": "stdout",
     "output_type": "stream",
     "text": [
      "T-statistic: -0.2274294130736581, P-value: 0.8251721972663931\n",
      "Faild to reject the null hypothesis: The average weight is 150 grams\n"
     ]
    }
   ],
   "source": [
    "import numpy as np\n",
    "from scipy import stats as st\n",
    "\n",
    "# Sample data (weights in grams)\n",
    "sample_data = np.array([145, 148, 152, 150, 149, 154, 147, 153, 149, 151])\n",
    "\n",
    "\n",
    "# known population mean\n",
    "population_mean = 150\n",
    "\n",
    "t_stat,p_value = st.ttest_1samp(sample_data,population_mean)\n",
    "\n",
    "print(f\"T-statistic: {t_stat}, P-value: {p_value}\")\n",
    "\n",
    "alpha = 0.05\n",
    "\n",
    "# Check if we reject the null hypothesis\n",
    "\n",
    "if p_value < alpha:\n",
    "    print('Reject the null hypothesis: The average weight is not 150 grams')\n",
    "\n",
    "else:\n",
    "    print('Faild to reject the null hypothesis: The average weight is 150 grams')\n",
    "\n",
    "\n"
   ]
  },
  {
   "cell_type": "markdown",
   "metadata": {},
   "source": [
    "2. Question:\n",
    "- Question: Is the average salary of employees at a company 50,000 USD?\n",
    "\n",
    "- Null Hypothesis (H₀): The average salary is 50,000 USD.\n",
    "- Alternative Hypothesis (H₁): The average salary is not 50,000 USD."
   ]
  },
  {
   "cell_type": "code",
   "execution_count": 6,
   "metadata": {},
   "outputs": [
    {
     "name": "stdout",
     "output_type": "stream",
     "text": [
      "T-statistic: 1.2222222222222223, P-value: 0.2526665913744047\n",
      "Fail to reject the null hypothesis: The average salary is 50,000 USD.\n"
     ]
    }
   ],
   "source": [
    "# Sample data (salaries in USD)\n",
    "sample_data = np.array([51000, 52000, 49000, 53000, 48000, 54000, 55000, 50000, 46000, 53000])\n",
    "\n",
    "# known population mean\n",
    "population_mean = 50000\n",
    "\n",
    "t_stat,p_value = st.ttest_1samp(sample_data,population_mean)\n",
    "\n",
    "# print the result \n",
    "print(f\"T-statistic: {t_stat}, P-value: {p_value}\")\n",
    "\n",
    "alpha = 0.05\n",
    "# Check if we reject the null hypothesis\n",
    "\n",
    "if p_value < alpha:\n",
    "    print('Rejet the null hypothesis: The average salary is not 50,000 USD.') \n",
    "else:\n",
    "    print(\"Fail to reject the null hypothesis: The average salary is 50,000 USD.\")"
   ]
  },
  {
   "cell_type": "markdown",
   "metadata": {},
   "source": [
    "3. Example Question:\n",
    "- Question: Does the mean temperature in winter for a city differ from 5°C?"
   ]
  },
  {
   "cell_type": "code",
   "execution_count": 7,
   "metadata": {},
   "outputs": [
    {
     "name": "stdout",
     "output_type": "stream",
     "text": [
      "T-statistic: -0.3854955397219416, P-value: 0.7088235445935906\n",
      "Faild to reject the null hypothesis\n"
     ]
    }
   ],
   "source": [
    "# Sample data (temperatures in Celsius)\n",
    "sample_data = np.array([3.5, 4.8, 5.2, 5.5, 6.0, 4.5, 5.0, 5.1, 4.7, 4.9])\n",
    "\n",
    "# Known population mean\n",
    "population_mean = 5\n",
    "\n",
    "t_stat,p_value = st.ttest_1samp(sample_data,population_mean)\n",
    "\n",
    "# Print the results\n",
    "print(f\"T-statistic: {t_stat}, P-value: {p_value}\")\n",
    "\n",
    "# alpha vale\n",
    "alpha = 0.05\n",
    "\n",
    "if p_value < alpha:\n",
    "    print('Reject the null hypothesis')\n",
    "else:\n",
    "    print('Faild to reject the null hypothesis')\n"
   ]
  },
  {
   "cell_type": "markdown",
   "metadata": {},
   "source": [
    "4. Example Question:\n",
    "- Question: Is there a difference in average test scores between two groups of students?\n",
    "\n",
    "- Null Hypothesis (H₀): The average test scores of both groups are equal.\n",
    "- Alternative Hypothesis (H₁): The average test scores of both groups are not equal."
   ]
  },
  {
   "cell_type": "code",
   "execution_count": 10,
   "metadata": {},
   "outputs": [
    {
     "name": "stdout",
     "output_type": "stream",
     "text": [
      "T-statistic: -0.3854955397219416, P-value: 0.0005309091816509014\n",
      "Rejet the null hypothesis The average test scores are not equal\n"
     ]
    }
   ],
   "source": [
    "# Sample data (test scores)\n",
    "group1 = np.array([85, 88, 90, 92, 86])\n",
    "group2 = np.array([78, 82, 80, 77, 75])\n",
    "\n",
    "t_test,p_value = st.ttest_ind(group1,group2)\n",
    "\n",
    "# Print the results\n",
    "print(f\"T-statistic: {t_stat}, P-value: {p_value}\")\n",
    "\n",
    "alpha = 0.05\n",
    "\n",
    "if p_value < alpha:\n",
    "    print('Rejet the null hypothesis The average test scores are not equal')\n",
    "else:\n",
    "    print('Faild to reject the null hypothesis')"
   ]
  },
  {
   "cell_type": "markdown",
   "metadata": {},
   "source": [
    "5. Example Question:\n",
    "- Question: Is there a difference in average heights between men and women in a population?"
   ]
  },
  {
   "cell_type": "code",
   "execution_count": 12,
   "metadata": {},
   "outputs": [
    {
     "name": "stdout",
     "output_type": "stream",
     "text": [
      "T-statistic: 6.078363435795296, P-value: 0.0002964639649983976\n",
      "Reject the null the average height are not equal\n"
     ]
    }
   ],
   "source": [
    "# Sample data (heights in cm)\n",
    "men_heights = np.array([170, 175, 180, 178, 172])\n",
    "women_heights = np.array([160, 158, 165, 163, 162])\n",
    "\n",
    "# null hypothesis is average height of men and women is equal\n",
    "# alterntive hypothesis is average height of men and women is not equal\n",
    "t_stat,p_value = st.ttest_ind(men_heights,women_heights)\n",
    "\n",
    "print(f\"T-statistic: {t_stat}, P-value: {p_value}\")\n",
    "\n",
    "alpha = 0.05\n",
    "\n",
    "if p_value < alpha:\n",
    "    print('Reject the null the average height are not equal')\n",
    "else:\n",
    "    print('Faild to rejet the null hypothesis')\n"
   ]
  },
  {
   "cell_type": "markdown",
   "metadata": {},
   "source": [
    "6. Example Question:\n",
    "- Question: Do two brands of cars have different average mileages?"
   ]
  },
  {
   "cell_type": "code",
   "execution_count": 13,
   "metadata": {},
   "outputs": [
    {
     "name": "stdout",
     "output_type": "stream",
     "text": [
      "T-statistic: -5.0, P-value: 0.001052825793366539\n",
      "Reject the null hypothesis: Both brand have difference mileages\n"
     ]
    }
   ],
   "source": [
    "# Sample data (mileage in miles per gallon)\n",
    "brand1 = np.array([24, 26, 22, 23, 25])\n",
    "brand2 = np.array([28, 30, 29, 27, 31])\n",
    "\n",
    "# null hypothesis is both brands have same mileages\n",
    "# lternative hypothesis is different mileages\n",
    "t_stat,p_value = st.ttest_ind(brand1,brand2)\n",
    "\n",
    "# print the results\n",
    "print(f\"T-statistic: {t_stat}, P-value: {p_value}\")\n",
    "\n",
    "\n",
    "alpha = 0.05\n",
    "\n",
    "if p_value < alpha:\n",
    "    print('Reject the null hypothesis: Both brand have difference mileages')\n",
    "else:\n",
    "    print('Faild to reject the null hypothesis both brand have same millages')"
   ]
  },
  {
   "cell_type": "markdown",
   "metadata": {},
   "source": [
    "7. Example Question:\n",
    "- Question: Are average sales different between two stores?"
   ]
  },
  {
   "cell_type": "code",
   "execution_count": 14,
   "metadata": {},
   "outputs": [
    {
     "name": "stdout",
     "output_type": "stream",
     "text": [
      "T-statistic: 2.939873661036668, P-value: 0.018713259995611645\n",
      "Reject the null hypothesis: Average sale of both sale is not same\n"
     ]
    }
   ],
   "source": [
    "# Sample data (sales in USD)\n",
    "store1_sales = np.array([1000, 1200, 1100, 1050, 1150])\n",
    "store2_sales = np.array([950, 980, 1010, 1020, 990])\n",
    "\n",
    "# null hypothesis is average sale of both sale is same\n",
    "# alternative hypothesis is average sale of both sale is not same\n",
    "\n",
    "# Perform the independent two-sample t-test\n",
    "t_stat,p_value = st.ttest_ind(store1_sales,store2_sales)\n",
    "\n",
    "# Print the results\n",
    "print(f\"T-statistic: {t_stat}, P-value: {p_value}\")\n",
    "\n",
    "alpha = 0.05\n",
    "\n",
    "if p_value < alpha:\n",
    "    print('Reject the null hypothesis: Average sale of both sale is not same')\n",
    "else:\n",
    "    print('Faild to reject the null hypothesis averae sale of both store is same')\n"
   ]
  },
  {
   "cell_type": "markdown",
   "metadata": {},
   "source": [
    "8. Example Question:\n",
    "- Question: Does a new diet lead to weight loss?\n",
    "\n",
    "- Null Hypothesis (H₀): There is no difference in the average weight before and after the diet.\n",
    "- Alternative Hypothesis (H₁): There is a difference in the average weight before and after the diet."
   ]
  },
  {
   "cell_type": "code",
   "execution_count": 15,
   "metadata": {},
   "outputs": [
    {
     "name": "stdout",
     "output_type": "stream",
     "text": [
      "T-statistic: 2.939873661036668, P-value: 0.002862214865913692\n",
      "Reject the null hypothesis there is differene\n"
     ]
    }
   ],
   "source": [
    "# Sample data (weights before and after diet)\n",
    "before_diet = np.array([80, 85, 88, 83, 87])\n",
    "after_diet = np.array([75, 80, 85, 81, 83])\n",
    "\n",
    "t_test,p_value = st.ttest_rel(before_diet,after_diet)\n",
    "\n",
    "# Print the results\n",
    "print(f\"T-statistic: {t_stat}, P-value: {p_value}\")\n",
    "\n",
    "alpha = 0.05\n",
    "\n",
    "if p_value < alpha:\n",
    "    print('Reject the null hypothesis there is differene')\n",
    "else:\n",
    "    print('Faild to reject the null hypothesis: there is no diffference')"
   ]
  },
  {
   "cell_type": "markdown",
   "metadata": {},
   "source": [
    "9. Example Question:\n",
    "- Question: Does a new medication improve blood pressure?"
   ]
  },
  {
   "cell_type": "code",
   "execution_count": 17,
   "metadata": {},
   "outputs": [
    {
     "name": "stdout",
     "output_type": "stream",
     "text": [
      "T-statistic: 9.15987040336552, P-value: 0.0007885893396051709\n",
      "Rejecct the null hypothesis: new medication improve blood pressure\n"
     ]
    }
   ],
   "source": [
    "# Sample data (blood pressure before and after medication)\n",
    "before_med = np.array([140, 135, 145, 142, 139])\n",
    "after_med = np.array([130, 125, 135, 128, 132])\n",
    "\n",
    "t_stat,p_value = st.ttest_rel(before_med,after_med)\n",
    "\n",
    "# Print the results\n",
    "print(f\"T-statistic: {t_stat}, P-value: {p_value}\")\n",
    "\n",
    "alpha = 0.05\n",
    "\n",
    "if p_value < alpha:\n",
    "    print('Rejecct the null hypothesis: new medication improve blood pressure')\n",
    "else:\n",
    "    print('Faild to reject the null hypothesis: new medication do not improve blood pressure')"
   ]
  }
 ],
 "metadata": {
  "kernelspec": {
   "display_name": "Python 3",
   "language": "python",
   "name": "python3"
  },
  "language_info": {
   "codemirror_mode": {
    "name": "ipython",
    "version": 3
   },
   "file_extension": ".py",
   "mimetype": "text/x-python",
   "name": "python",
   "nbconvert_exporter": "python",
   "pygments_lexer": "ipython3",
   "version": "3.12.7"
  }
 },
 "nbformat": 4,
 "nbformat_minor": 2
}
